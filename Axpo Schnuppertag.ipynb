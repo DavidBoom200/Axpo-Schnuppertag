{
  "nbformat": 4,
  "nbformat_minor": 0,
  "metadata": {
    "colab": {
      "provenance": []
    },
    "kernelspec": {
      "name": "python3",
      "display_name": "Python 3"
    },
    "language_info": {
      "name": "python"
    }
  },
  "cells": [
    {
      "cell_type": "markdown",
      "source": [
        "1. Einstieg"
      ],
      "metadata": {
        "id": "xedUV9VAiS9z"
      }
    },
    {
      "cell_type": "code",
      "execution_count": 1,
      "metadata": {
        "colab": {
          "base_uri": "https://localhost:8080/"
        },
        "id": "Tq5Vs33Lh1j-",
        "outputId": "dd1daa08-83c6-49b8-e079-3b2e8b27c2f8"
      },
      "outputs": [
        {
          "output_type": "stream",
          "name": "stdout",
          "text": [
            "Hallo, Welt!\n",
            "Hello World!\n",
            "Hello World! Hello World! Hello World! Hello World! \n",
            "durch null\n",
            "16\n",
            "8.0\n"
          ]
        }
      ],
      "source": [
        "print(\"Hallo, Welt!\")\n",
        "string_1 = \"Hello \"\n",
        "string_2 = \"World!\"\n",
        "print(string_1 + string_2)\n",
        "\n",
        "result = (string_1 + string_2 + \" \") * 4\n",
        "print(result)\n",
        "\n",
        "product = 4 * 4\n",
        "quotient = 32 / 4\n",
        "# bad = 32 / 0            # ZeroDivisionError: division by zero\n",
        "\n",
        "\n",
        "a = 4\n",
        "b = 0\n",
        "try:\n",
        "    result = a/b\n",
        "except ZeroDivisionError:\n",
        "    result=\"durch null\"\n",
        "\n",
        "print(result)\n",
        "\n",
        "\n",
        "print(product)\n",
        "print(quotient)"
      ]
    },
    {
      "cell_type": "markdown",
      "source": [
        "2. If- Abfragen"
      ],
      "metadata": {
        "id": "1UCshpjGiZ8r"
      }
    },
    {
      "cell_type": "code",
      "source": [
        "numbers = [357,867,529]\n",
        "sorted_numbers = sorted(numbers)\n",
        "sorted_numbers = max(numbers)       #bestimmt die grösste Zahl\n",
        "print(sorted_numbers)\n",
        "\n",
        "\n",
        "year = 2008\n",
        "\n",
        "def ist_schaltjahr(year):\n",
        "\n",
        "    durch_4_teilbar = year % 4 == 0\n",
        "\n",
        "    durch_100_teilbar = year % 100 == 0\n",
        "\n",
        "    durch_400_teilbar = year % 400 == 0\n",
        "\n",
        "    ist_schaltjahr = (durch_4_teilbar and not durch_100_teilbar) or durch_400_teilbar\n",
        "\n",
        "    return ist_schaltjahr\n",
        "\n",
        "# Beispiel\n",
        "if ist_schaltjahr(year):\n",
        "    print(f\"{year} ist ein Schaltjahr.\")\n",
        "else:\n",
        "    print(f\"{year} ist kein Schaltjahr.\")"
      ],
      "metadata": {
        "id": "FwMWhNFWh3nI"
      },
      "execution_count": null,
      "outputs": []
    },
    {
      "cell_type": "markdown",
      "source": [
        "3. Wetterbericht"
      ],
      "metadata": {
        "id": "aiL7fwDficws"
      }
    },
    {
      "cell_type": "code",
      "source": [
        "def temp_result(temperature):\n",
        "    grösser_als_25 = temperature > 25\n",
        "    kleiner_als_25 = 15 < temperature <= 25\n",
        "    kleiner_als_15 = temperature <= 15\n",
        "\n",
        "    if grösser_als_25:\n",
        "        return \"Es ist warm\"\n",
        "    elif kleiner_als_25:\n",
        "        return \"Es ist mild\"\n",
        "    elif kleiner_als_15:\n",
        "        return \"Es ist kalt\"\n",
        "    else:\n",
        "        return \"Es ist ein ungewöhnliches Wetter\"\n",
        "\n",
        "#Ergebnis\n",
        "temperature = int(input(\"Bitte gib die Temperatur ein: \"))\n",
        "result = temp_result(temperature)\n",
        "print(result)"
      ],
      "metadata": {
        "id": "BsRKmZeqiL7K"
      },
      "execution_count": null,
      "outputs": []
    },
    {
      "cell_type": "markdown",
      "source": [
        "4. Listen kombinieren"
      ],
      "metadata": {
        "id": "DVdWfSHVie5R"
      }
    },
    {
      "cell_type": "code",
      "source": [
        "list_1 = [3,8,9,5]\n",
        "list_2 = [4,7,2,1]\n",
        "\n",
        "list_total = list_1 + list_2\n",
        "print(\"Beide Listen:\", list_total)\n",
        "\n",
        "\n",
        "index = list_1.index(9)\n",
        "print(\"Ergebnis\", index)"
      ],
      "metadata": {
        "id": "rDqr0PYCiPjJ"
      },
      "execution_count": null,
      "outputs": []
    }
  ]
}